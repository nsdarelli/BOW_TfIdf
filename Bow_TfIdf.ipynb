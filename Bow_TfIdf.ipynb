{
  "nbformat": 4,
  "nbformat_minor": 0,
  "metadata": {
    "colab": {
      "provenance": [],
      "gpuType": "T4"
    },
    "kernelspec": {
      "name": "python3",
      "display_name": "Python 3"
    },
    "language_info": {
      "name": "python"
    },
    "accelerator": "GPU"
  },
  "cells": [
    {
      "cell_type": "code",
      "source": [
        "!pip install nltk"
      ],
      "metadata": {
        "colab": {
          "base_uri": "https://localhost:8080/"
        },
        "id": "rO4QMREu17YU",
        "outputId": "48a28427-184f-4be7-8582-4d175609d7bb"
      },
      "execution_count": null,
      "outputs": [
        {
          "output_type": "stream",
          "name": "stdout",
          "text": [
            "Requirement already satisfied: nltk in /usr/local/lib/python3.10/dist-packages (3.8.1)\n",
            "Requirement already satisfied: click in /usr/local/lib/python3.10/dist-packages (from nltk) (8.1.4)\n",
            "Requirement already satisfied: joblib in /usr/local/lib/python3.10/dist-packages (from nltk) (1.3.1)\n",
            "Requirement already satisfied: regex>=2021.8.3 in /usr/local/lib/python3.10/dist-packages (from nltk) (2022.10.31)\n",
            "Requirement already satisfied: tqdm in /usr/local/lib/python3.10/dist-packages (from nltk) (4.65.0)\n"
          ]
        }
      ]
    },
    {
      "cell_type": "code",
      "source": [
        "corpus = \"\"\"Narendra Damodardas Modi (Gujarati: [ˈnəɾendɾə dɑmodəɾˈdɑs ˈmodiː] (listen); born 17 September 1950)[b] is an Indian politician who has served as the 14th Prime Minister of India since May 2014. Modi was the Chief Minister of Gujarat from 2001 to 2014 and is the Member of Parliament (MP) for Varanasi. He is a member of the Bharatiya Janata Party (BJP) and of the Rashtriya Swayamsevak Sangh (RSS), a right-wing Hindu nationalist paramilitary volunteer organisation. He is the longest-serving non-Congress prime minister.\n",
        "\n",
        "Born and raised in Vadnagar in northeastern Gujarat, Modi became a full-time worker for the RSS in Gujarat in 1971. After the state of emergency was declared by Prime Minister Indira Gandhi in 1975, he went into hiding. The RSS assigned him to the BJP in 1985 and he held several positions within the party hierarchy until 2001, rising to the rank of general secretary.[c] In 2001, Modi was appointed Chief Minister of Gujarat and was elected to the legislative assembly soon after. His administration is considered complicit in the 2002 Gujarat riots,[d] which resulted in 1,000 to 2,000 deaths, mostly Muslims. A Special Investigation Team appointed by the Supreme Court of India found no evidence to initiate prosecution proceedings against Modi.[10][e] His policies as chief minister were credited for encouraging economic growth, but Modi's administration was also criticised for its record on health, poverty and education indices in the state.[f]\n",
        "\n",
        "\"\"\""
      ],
      "metadata": {
        "id": "IGaQi0NF-CmK"
      },
      "execution_count": null,
      "outputs": []
    },
    {
      "cell_type": "code",
      "source": [
        "corpus"
      ],
      "metadata": {
        "colab": {
          "base_uri": "https://localhost:8080/",
          "height": 140
        },
        "id": "V0yb_QWv-jm9",
        "outputId": "8236564e-2c6e-4a13-bf6c-576b34413bf0"
      },
      "execution_count": null,
      "outputs": [
        {
          "output_type": "execute_result",
          "data": {
            "text/plain": [
              "\"Narendra Damodardas Modi (Gujarati: [ˈnəɾendɾə dɑmodəɾˈdɑs ˈmodiː] (listen); born 17 September 1950)[b] is an Indian politician who has served as the 14th Prime Minister of India since May 2014. Modi was the Chief Minister of Gujarat from 2001 to 2014 and is the Member of Parliament (MP) for Varanasi. He is a member of the Bharatiya Janata Party (BJP) and of the Rashtriya Swayamsevak Sangh (RSS), a right-wing Hindu nationalist paramilitary volunteer organisation. He is the longest-serving non-Congress prime minister.\\n\\nBorn and raised in Vadnagar in northeastern Gujarat, Modi became a full-time worker for the RSS in Gujarat in 1971. After the state of emergency was declared by Prime Minister Indira Gandhi in 1975, he went into hiding. The RSS assigned him to the BJP in 1985 and he held several positions within the party hierarchy until 2001, rising to the rank of general secretary.[c] In 2001, Modi was appointed Chief Minister of Gujarat and was elected to the legislative assembly soon after. His administration is considered complicit in the 2002 Gujarat riots,[d] which resulted in 1,000 to 2,000 deaths, mostly Muslims. A Special Investigation Team appointed by the Supreme Court of India found no evidence to initiate prosecution proceedings against Modi.[10][e] His policies as chief minister were credited for encouraging economic growth, but Modi's administration was also criticised for its record on health, poverty and education indices in the state.[f]\\n\\n\""
            ],
            "application/vnd.google.colaboratory.intrinsic+json": {
              "type": "string"
            }
          },
          "metadata": {},
          "execution_count": 20
        }
      ]
    },
    {
      "cell_type": "code",
      "source": [
        "import nltk\n",
        "from nltk.stem import PorterStemmer\n",
        "from nltk.corpus import stopwords"
      ],
      "metadata": {
        "id": "EHdJHML0-mPp"
      },
      "execution_count": null,
      "outputs": []
    },
    {
      "cell_type": "code",
      "source": [
        "# tokenization\n",
        "nltk.download('punkt')\n",
        "sentences = nltk.sent_tokenize(corpus)"
      ],
      "metadata": {
        "colab": {
          "base_uri": "https://localhost:8080/"
        },
        "id": "2tBx5aC--7PS",
        "outputId": "a71ea972-a025-4b37-aacb-b2140d8ed889"
      },
      "execution_count": null,
      "outputs": [
        {
          "output_type": "stream",
          "name": "stderr",
          "text": [
            "[nltk_data] Downloading package punkt to /root/nltk_data...\n",
            "[nltk_data]   Package punkt is already up-to-date!\n"
          ]
        }
      ]
    },
    {
      "cell_type": "code",
      "source": [
        "sentences"
      ],
      "metadata": {
        "colab": {
          "base_uri": "https://localhost:8080/"
        },
        "id": "BNK_oaPd_Ux6",
        "outputId": "3d52364c-128e-4541-a2a7-4c1bb5308170"
      },
      "execution_count": null,
      "outputs": [
        {
          "output_type": "execute_result",
          "data": {
            "text/plain": [
              "['Narendra Damodardas Modi (Gujarati: [ˈnəɾendɾə dɑmodəɾˈdɑs ˈmodiː] (listen); born 17 September 1950)[b] is an Indian politician who has served as the 14th Prime Minister of India since May 2014.',\n",
              " 'Modi was the Chief Minister of Gujarat from 2001 to 2014 and is the Member of Parliament (MP) for Varanasi.',\n",
              " 'He is a member of the Bharatiya Janata Party (BJP) and of the Rashtriya Swayamsevak Sangh (RSS), a right-wing Hindu nationalist paramilitary volunteer organisation.',\n",
              " 'He is the longest-serving non-Congress prime minister.',\n",
              " 'Born and raised in Vadnagar in northeastern Gujarat, Modi became a full-time worker for the RSS in Gujarat in 1971.',\n",
              " 'After the state of emergency was declared by Prime Minister Indira Gandhi in 1975, he went into hiding.',\n",
              " 'The RSS assigned him to the BJP in 1985 and he held several positions within the party hierarchy until 2001, rising to the rank of general secretary.',\n",
              " '[c] In 2001, Modi was appointed Chief Minister of Gujarat and was elected to the legislative assembly soon after.',\n",
              " 'His administration is considered complicit in the 2002 Gujarat riots,[d] which resulted in 1,000 to 2,000 deaths, mostly Muslims.',\n",
              " 'A Special Investigation Team appointed by the Supreme Court of India found no evidence to initiate prosecution proceedings against Modi.',\n",
              " \"[10][e] His policies as chief minister were credited for encouraging economic growth, but Modi's administration was also criticised for its record on health, poverty and education indices in the state.\",\n",
              " '[f]']"
            ]
          },
          "metadata": {},
          "execution_count": 40
        }
      ]
    },
    {
      "cell_type": "code",
      "source": [
        "stemmer = PorterStemmer()"
      ],
      "metadata": {
        "id": "WRu_nCdW_hqr"
      },
      "execution_count": null,
      "outputs": []
    },
    {
      "cell_type": "code",
      "source": [
        "stemmer.stem('history')"
      ],
      "metadata": {
        "colab": {
          "base_uri": "https://localhost:8080/",
          "height": 35
        },
        "id": "HlvMAitv_3is",
        "outputId": "5a699ad4-2ddc-4b2a-9afc-ae09292587a8"
      },
      "execution_count": null,
      "outputs": [
        {
          "output_type": "execute_result",
          "data": {
            "text/plain": [
              "'histori'"
            ],
            "application/vnd.google.colaboratory.intrinsic+json": {
              "type": "string"
            }
          },
          "metadata": {},
          "execution_count": 25
        }
      ]
    },
    {
      "cell_type": "code",
      "source": [
        "import re\n",
        "\n",
        "corpus = []\n",
        "\n",
        "for i in range(len(sentences)):\n",
        "  review = re.sub('[^a-zA-Z0-9]', ' ', sentences[i])\n",
        "  review = review.lower()\n",
        "  corpus.append(review)"
      ],
      "metadata": {
        "id": "jwroiq2JC90z"
      },
      "execution_count": null,
      "outputs": []
    },
    {
      "cell_type": "code",
      "source": [
        "corpus"
      ],
      "metadata": {
        "colab": {
          "base_uri": "https://localhost:8080/"
        },
        "id": "0DuAJ0sEEBlG",
        "outputId": "9f37c7a7-a6ef-453d-843a-535e6eef440b"
      },
      "execution_count": null,
      "outputs": [
        {
          "output_type": "execute_result",
          "data": {
            "text/plain": [
              "['narendra damodardas modi  gujarati    n  end   d mod   d s  modi    listen   born 17 september 1950  b  is an indian politician who has served as the 14th prime minister of india since may 2014 ',\n",
              " 'modi was the chief minister of gujarat from 2001 to 2014 and is the member of parliament  mp  for varanasi ',\n",
              " 'he is a member of the bharatiya janata party  bjp  and of the rashtriya swayamsevak sangh  rss   a right wing hindu nationalist paramilitary volunteer organisation ',\n",
              " 'he is the longest serving non congress prime minister ',\n",
              " 'born and raised in vadnagar in northeastern gujarat  modi became a full time worker for the rss in gujarat in 1971 ',\n",
              " 'after the state of emergency was declared by prime minister indira gandhi in 1975  he went into hiding ',\n",
              " 'the rss assigned him to the bjp in 1985 and he held several positions within the party hierarchy until 2001  rising to the rank of general secretary ',\n",
              " ' c  in 2001  modi was appointed chief minister of gujarat and was elected to the legislative assembly soon after ',\n",
              " 'his administration is considered complicit in the 2002 gujarat riots  d  which resulted in 1 000 to 2 000 deaths  mostly muslims ',\n",
              " 'a special investigation team appointed by the supreme court of india found no evidence to initiate prosecution proceedings against modi ',\n",
              " ' 10  e  his policies as chief minister were credited for encouraging economic growth  but modi s administration was also criticised for its record on health  poverty and education indices in the state ',\n",
              " ' f ']"
            ]
          },
          "metadata": {},
          "execution_count": 39
        }
      ]
    },
    {
      "cell_type": "code",
      "source": [
        "##stemming\n",
        "for sent in corpus:\n",
        "  words = nltk.word_tokenize(sent)\n",
        "  for word in words:\n",
        "    if word not in set(stopwords.words('english')):\n",
        "      print(stemmer.stem(word))"
      ],
      "metadata": {
        "colab": {
          "base_uri": "https://localhost:8080/"
        },
        "id": "rYfP2uZ_EK4N",
        "outputId": "1bfe9a17-5406-4b61-eb7d-87500804e1dc"
      },
      "execution_count": null,
      "outputs": [
        {
          "output_type": "stream",
          "name": "stdout",
          "text": [
            "['narendra', 'damodarda', 'modi', 'gujarati', 'n', 'end', 'mod', 'modi', 'listen', 'born', '17', 'septemb', '1950', 'b', 'indian', 'politician', 'serv', '14th', 'prime', 'minist', 'india', 'sinc', 'may', '2014']\n",
            "['modi', 'chief', 'minist', 'gujarat', '2001', '2014', 'member', 'parliament', 'mp', 'varanasi']\n",
            "['member', 'bharatiya', 'janata', 'parti', 'bjp', 'rashtriya', 'swayamsevak', 'sangh', 'rss', 'right', 'wing', 'hindu', 'nationalist', 'paramilitari', 'volunt', 'organis']\n",
            "['longest', 'serv', 'non', 'congress', 'prime', 'minist']\n",
            "['born', 'rais', 'vadnagar', 'northeastern', 'gujarat', 'modi', 'becam', 'full', 'time', 'worker', 'rss', 'gujarat', '1971']\n",
            "['state', 'emerg', 'declar', 'prime', 'minist', 'indira', 'gandhi', '1975', 'went', 'hide']\n",
            "['rss', 'assign', 'bjp', '1985', 'held', 'sever', 'posit', 'within', 'parti', 'hierarchi', '2001', 'rise', 'rank', 'gener', 'secretari']\n",
            "['c', '2001', 'modi', 'appoint', 'chief', 'minist', 'gujarat', 'elect', 'legisl', 'assembl', 'soon']\n",
            "['administr', 'consid', 'complicit', '2002', 'gujarat', 'riot', 'result', '1', '000', '2', '000', 'death', 'mostli', 'muslim']\n",
            "['special', 'investig', 'team', 'appoint', 'suprem', 'court', 'india', 'found', 'evid', 'initi', 'prosecut', 'proceed', 'modi']\n",
            "['10', 'e', 'polici', 'chief', 'minist', 'credit', 'encourag', 'econom', 'growth', 'modi', 'administr', 'also', 'criticis', 'record', 'health', 'poverti', 'educ', 'indic', 'state']\n",
            "['f']\n"
          ]
        }
      ]
    },
    {
      "cell_type": "code",
      "source": [
        "# Apply stopwprds and Stemmimg\n",
        "import re\n",
        "corpus = []\n",
        "for sent in range(len(sentences)):\n",
        "  review = re.sub('[^a-zA-Z0-9]', ' ', sentences[sent])\n",
        "  review = review.lower()\n",
        "  review = review.split()\n",
        "  review = [stemmer.stem(word) for word in review if word not in set(stopwords.words('english'))]\n",
        "  review = ' '.join(review)\n",
        "  corpus.append(review)"
      ],
      "metadata": {
        "id": "FDYynNGkJPOC"
      },
      "execution_count": null,
      "outputs": []
    },
    {
      "cell_type": "code",
      "source": [
        "from sklearn.feature_extraction.text import CountVectorizer\n",
        "cv = CountVectorizer()"
      ],
      "metadata": {
        "id": "4XkPPOjoFspt"
      },
      "execution_count": null,
      "outputs": []
    },
    {
      "cell_type": "code",
      "source": [
        "X = cv.fit_transform(corpus)"
      ],
      "metadata": {
        "id": "UaGb3iJzGZW0"
      },
      "execution_count": null,
      "outputs": []
    },
    {
      "cell_type": "code",
      "source": [
        "cv.vocabulary_"
      ],
      "metadata": {
        "colab": {
          "base_uri": "https://localhost:8080/"
        },
        "id": "uAr2G9sjGgqs",
        "outputId": "706765af-39a3-4a8b-a362-7566b0970a07"
      },
      "execution_count": null,
      "outputs": [
        {
          "output_type": "execute_result",
          "data": {
            "text/plain": [
              "{'narendra': 67,\n",
              " 'damodarda': 27,\n",
              " 'modi': 63,\n",
              " 'gujarati': 43,\n",
              " 'end': 35,\n",
              " 'mod': 62,\n",
              " 'listen': 57,\n",
              " 'born': 19,\n",
              " '17': 3,\n",
              " 'septemb': 93,\n",
              " '1950': 4,\n",
              " 'indian': 50,\n",
              " 'politician': 76,\n",
              " 'serv': 94,\n",
              " '14th': 2,\n",
              " 'prime': 79,\n",
              " 'minist': 61,\n",
              " 'india': 49,\n",
              " 'sinc': 96,\n",
              " 'may': 59,\n",
              " '2014': 10,\n",
              " 'chief': 20,\n",
              " 'gujarat': 42,\n",
              " '2001': 8,\n",
              " 'member': 60,\n",
              " 'parliament': 73,\n",
              " 'mp': 65,\n",
              " 'varanasi': 105,\n",
              " 'bharatiya': 17,\n",
              " 'janata': 55,\n",
              " 'parti': 74,\n",
              " 'bjp': 18,\n",
              " 'rashtriya': 84,\n",
              " 'swayamsevak': 101,\n",
              " 'sangh': 91,\n",
              " 'rss': 90,\n",
              " 'right': 87,\n",
              " 'wing': 108,\n",
              " 'hindu': 48,\n",
              " 'nationalist': 68,\n",
              " 'paramilitari': 72,\n",
              " 'volunt': 106,\n",
              " 'organis': 71,\n",
              " 'longest': 58,\n",
              " 'non': 69,\n",
              " 'congress': 22,\n",
              " 'rais': 82,\n",
              " 'vadnagar': 104,\n",
              " 'northeastern': 70,\n",
              " 'becam': 16,\n",
              " 'full': 38,\n",
              " 'time': 103,\n",
              " 'worker': 110,\n",
              " '1971': 5,\n",
              " 'state': 99,\n",
              " 'emerg': 33,\n",
              " 'declar': 29,\n",
              " 'indira': 52,\n",
              " 'gandhi': 39,\n",
              " '1975': 6,\n",
              " 'went': 107,\n",
              " 'hide': 46,\n",
              " 'assign': 15,\n",
              " '1985': 7,\n",
              " 'held': 45,\n",
              " 'sever': 95,\n",
              " 'posit': 77,\n",
              " 'within': 109,\n",
              " 'hierarchi': 47,\n",
              " 'rise': 89,\n",
              " 'rank': 83,\n",
              " 'gener': 40,\n",
              " 'secretari': 92,\n",
              " 'appoint': 13,\n",
              " 'elect': 32,\n",
              " 'legisl': 56,\n",
              " 'assembl': 14,\n",
              " 'soon': 97,\n",
              " 'administr': 11,\n",
              " 'consid': 23,\n",
              " 'complicit': 21,\n",
              " '2002': 9,\n",
              " 'riot': 88,\n",
              " 'result': 86,\n",
              " '000': 0,\n",
              " 'death': 28,\n",
              " 'mostli': 64,\n",
              " 'muslim': 66,\n",
              " 'special': 98,\n",
              " 'investig': 54,\n",
              " 'team': 102,\n",
              " 'suprem': 100,\n",
              " 'court': 24,\n",
              " 'found': 37,\n",
              " 'evid': 36,\n",
              " 'initi': 53,\n",
              " 'prosecut': 81,\n",
              " 'proceed': 80,\n",
              " '10': 1,\n",
              " 'polici': 75,\n",
              " 'credit': 25,\n",
              " 'encourag': 34,\n",
              " 'econom': 30,\n",
              " 'growth': 41,\n",
              " 'also': 12,\n",
              " 'criticis': 26,\n",
              " 'record': 85,\n",
              " 'health': 44,\n",
              " 'poverti': 78,\n",
              " 'educ': 31,\n",
              " 'indic': 51}"
            ]
          },
          "metadata": {},
          "execution_count": 59
        }
      ]
    },
    {
      "cell_type": "code",
      "source": [
        "corpus[0]"
      ],
      "metadata": {
        "colab": {
          "base_uri": "https://localhost:8080/",
          "height": 35
        },
        "id": "EpX9K6O3Gp5L",
        "outputId": "150059ca-3801-443d-9a26-1daf4864dad0"
      },
      "execution_count": null,
      "outputs": [
        {
          "output_type": "execute_result",
          "data": {
            "text/plain": [
              "'narendra damodarda modi gujarati n end mod modi listen born 17 septemb 1950 b indian politician serv 14th prime minist india sinc may 2014'"
            ],
            "application/vnd.google.colaboratory.intrinsic+json": {
              "type": "string"
            }
          },
          "metadata": {},
          "execution_count": 60
        }
      ]
    },
    {
      "cell_type": "code",
      "source": [
        "X[0].toarray()"
      ],
      "metadata": {
        "colab": {
          "base_uri": "https://localhost:8080/"
        },
        "id": "aSTg3nBBHKK7",
        "outputId": "3b6b0880-d02d-4fa2-c203-05752f73f656"
      },
      "execution_count": null,
      "outputs": [
        {
          "output_type": "execute_result",
          "data": {
            "text/plain": [
              "array([[0, 0, 1, 1, 1, 0, 0, 0, 0, 0, 1, 0, 0, 0, 0, 0, 0, 0, 0, 1, 0, 0,\n",
              "        0, 0, 0, 0, 0, 1, 0, 0, 0, 0, 0, 0, 0, 1, 0, 0, 0, 0, 0, 0, 0, 1,\n",
              "        0, 0, 0, 0, 0, 1, 1, 0, 0, 0, 0, 0, 0, 1, 0, 1, 0, 1, 1, 2, 0, 0,\n",
              "        0, 1, 0, 0, 0, 0, 0, 0, 0, 0, 1, 0, 0, 1, 0, 0, 0, 0, 0, 0, 0, 0,\n",
              "        0, 0, 0, 0, 0, 1, 1, 0, 1, 0, 0, 0, 0, 0, 0, 0, 0, 0, 0, 0, 0, 0,\n",
              "        0]])"
            ]
          },
          "metadata": {},
          "execution_count": 61
        }
      ]
    },
    {
      "cell_type": "code",
      "source": [
        "## TF-IDF\n",
        "from sklearn.feature_extraction.text import TfidfVectorizer\n",
        "cv = TfidfVectorizer(ngram_range=(2,3), max_features=10)\n",
        "X = cv.fit_transform(corpus)"
      ],
      "metadata": {
        "id": "8UoPpCMNHiKn"
      },
      "execution_count": null,
      "outputs": []
    },
    {
      "cell_type": "code",
      "source": [
        "corpus[0]"
      ],
      "metadata": {
        "colab": {
          "base_uri": "https://localhost:8080/",
          "height": 35
        },
        "id": "oa19xZvjNjdJ",
        "outputId": "b760934d-657d-485b-ee27-f1f906fb6242"
      },
      "execution_count": null,
      "outputs": [
        {
          "output_type": "execute_result",
          "data": {
            "text/plain": [
              "'narendra damodarda modi gujarati n end mod modi listen born 17 septemb 1950 b indian politician serv 14th prime minist india sinc may 2014'"
            ],
            "application/vnd.google.colaboratory.intrinsic+json": {
              "type": "string"
            }
          },
          "metadata": {},
          "execution_count": 67
        }
      ]
    },
    {
      "cell_type": "code",
      "source": [
        "X[0].toarray()"
      ],
      "metadata": {
        "colab": {
          "base_uri": "https://localhost:8080/"
        },
        "id": "13zQVyBUNov3",
        "outputId": "81b7c7c5-5755-4b87-cf43-7e5e55390db7"
      },
      "execution_count": null,
      "outputs": [
        {
          "output_type": "execute_result",
          "data": {
            "text/plain": [
              "array([[0.        , 0.        , 0.        , 0.52884669, 0.52884669,\n",
              "        0.        , 0.        , 0.52884669, 0.        , 0.4012026 ]])"
            ]
          },
          "metadata": {},
          "execution_count": 68
        }
      ]
    },
    {
      "cell_type": "code",
      "source": [],
      "metadata": {
        "id": "l0vCsz-LNtKA"
      },
      "execution_count": null,
      "outputs": []
    }
  ]
}